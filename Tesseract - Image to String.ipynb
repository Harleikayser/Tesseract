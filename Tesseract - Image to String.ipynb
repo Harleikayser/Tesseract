{
 "cells": [
  {
   "cell_type": "code",
   "execution_count": 3,
   "id": "da3e852a",
   "metadata": {},
   "outputs": [
    {
     "name": "stdout",
     "output_type": "stream",
     "text": [
      "49\n",
      "Your First OCR Project with\n",
      "Tesseract and Python\n",
      "\n"
     ]
    }
   ],
   "source": [
    "from PIL import Image\n",
    "import pytesseract\n",
    "import numpy as np\n",
    "\n",
    "pytesseract.pytesseract.tesseract_cmd = r\"C:\\Program Files\\Tesseract-OCR\\tesseract.exe\"\n",
    "\n",
    "# file name \n",
    "filename = 'Tesseract image.png'\n",
    "\n",
    "# open the file \n",
    "img = np.array(Image.open(filename))\n",
    "\n",
    "# convert to string\n",
    "text = pytesseract.image_to_string(img)\n",
    "\n",
    "print(len(text))\n",
    "print(text)"
   ]
  },
  {
   "cell_type": "code",
   "execution_count": 2,
   "id": "e98be9c8",
   "metadata": {},
   "outputs": [
    {
     "name": "stdout",
     "output_type": "stream",
     "text": [
      "670\n",
      "Optical Character Recognition (OCR) has been in use for decades across multiple sectors in the industry, such as banking,\n",
      "retail, healthcare, transportation, and manufacturing. With a tremendous increase in digitization in this 21st century, a.k.a\n",
      "Information age, OCR applications are witnessing huge demand. In fact, according to a recent survey, the market share of\n",
      "OCR will increase by 16.7% (compound annual growth rate) from 2021 to 2028 from 7.46 billion USD in 2020. Given the\n",
      "great potential of success of this technology in the future, in this blog, let’s look at the concept of OCR, its challenges, and a\n",
      "detailed analysis of the famous OCR tool - Tesseract.\n",
      "\n"
     ]
    }
   ],
   "source": [
    "from PIL import Image\n",
    "import pytesseract\n",
    "import numpy as np\n",
    "\n",
    "pytesseract.pytesseract.tesseract_cmd = r\"C:\\Program Files\\Tesseract-OCR\\tesseract.exe\"\n",
    "filename = 'OCR.jpg'\n",
    "img1 = np.array(Image.open(filename))\n",
    "img = np.array(Image.open(filename))\n",
    "text = pytesseract.image_to_string(img1)\n",
    "print(len(text))\n",
    "print(text)"
   ]
  },
  {
   "cell_type": "code",
   "execution_count": null,
   "id": "581cfefa",
   "metadata": {},
   "outputs": [],
   "source": []
  }
 ],
 "metadata": {
  "kernelspec": {
   "display_name": "Python 3 (ipykernel)",
   "language": "python",
   "name": "python3"
  },
  "language_info": {
   "codemirror_mode": {
    "name": "ipython",
    "version": 3
   },
   "file_extension": ".py",
   "mimetype": "text/x-python",
   "name": "python",
   "nbconvert_exporter": "python",
   "pygments_lexer": "ipython3",
   "version": "3.9.12"
  }
 },
 "nbformat": 4,
 "nbformat_minor": 5
}
