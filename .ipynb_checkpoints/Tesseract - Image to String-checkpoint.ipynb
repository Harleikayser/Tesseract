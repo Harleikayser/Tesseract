{
 "cells": [
  {
   "cell_type": "code",
   "execution_count": 3,
   "id": "da3e852a",
   "metadata": {},
   "outputs": [
    {
     "name": "stdout",
     "output_type": "stream",
     "text": [
      "49\n",
      "Your First OCR Project with\n",
      "Tesseract and Python\n",
      "\n"
     ]
    }
   ],
   "source": [
    "from PIL import Image\n",
    "import pytesseract\n",
    "import numpy as np\n",
    "\n",
    "#apontar o caminho onde esta intalado o pytesseract.exe\n",
    "#point where the pytesseract.exe is install \n",
    "pytesseract.pytesseract.tesseract_cmd = r\"C:\\Program Files\\Tesseract-OCR\\tesseract.exe\"\n",
    "\n",
    "# file name \n",
    "filename = 'Tesseract image.png'\n",
    "\n",
    "# open the file \n",
    "img = np.array(Image.open(filename))\n",
    "\n",
    "# convert to string\n",
    "text = pytesseract.image_to_string(img)\n",
    "\n",
    "print(len(text))\n",
    "print(text)"
   ]
  },
  {
   "cell_type": "code",
   "execution_count": 2,
   "id": "e98be9c8",
   "metadata": {},
   "outputs": [
    {
     "name": "stdout",
     "output_type": "stream",
     "text": [
      "670\n",
      "Optical Character Recognition (OCR) has been in use for decades across multiple sectors in the industry, such as banking,\n",
      "retail, healthcare, transportation, and manufacturing. With a tremendous increase in digitization in this 21st century, a.k.a\n",
      "Information age, OCR applications are witnessing huge demand. In fact, according to a recent survey, the market share of\n",
      "OCR will increase by 16.7% (compound annual growth rate) from 2021 to 2028 from 7.46 billion USD in 2020. Given the\n",
      "great potential of success of this technology in the future, in this blog, let’s look at the concept of OCR, its challenges, and a\n",
      "detailed analysis of the famous OCR tool - Tesseract.\n",
      "\n"
     ]
    }
   ],
   "source": [
    "from PIL import Image\n",
    "import pytesseract\n",
    "import numpy as np\n",
    "\n",
    "pytesseract.pytesseract.tesseract_cmd = r\"C:\\Program Files\\Tesseract-OCR\\tesseract.exe\"\n",
    "filename = 'OCR.jpg'\n",
    "img1 = np.array(Image.open(filename))\n",
    "img = np.array(Image.open(filename))\n",
    "text = pytesseract.image_to_string(img1)\n",
    "print(len(text))\n",
    "print(text)"
   ]
  },
  {
   "cell_type": "markdown",
   "id": "297c54c3",
   "metadata": {},
   "source": [
    "# How to treat image with gray background"
   ]
  },
  {
   "cell_type": "code",
   "execution_count": 4,
   "id": "581cfefa",
   "metadata": {},
   "outputs": [
    {
     "name": "stdout",
     "output_type": "stream",
     "text": [
      "from PIL import Image\n",
      "\n",
      "‘import pytesseract\n",
      "\n",
      "# If you don't have tesseract executable in your PATH, include the following:\n",
      "pytesseract.pytesseract.tesseract_cmd = r'<full_path_to_your_tesseract_executable>!\n",
      "# Example tesseract_cmd = r'C:\\Program Files (x86)\\Tesseract-OCR\\tesseract!\n",
      "\n",
      "# Simple image to string\n",
      "\n",
      "print (pytesseract. image_to_string(Image.open('test.png')))\n",
      "\n"
     ]
    }
   ],
   "source": [
    "import pytesseract\n",
    "import cv2\n",
    "from PIL import Image\n",
    "\n",
    "pytesseract.pytesseract.tesseract_cmd = r\"C:\\Program Files\\Tesseract-OCR\\tesseract.exe\"\n",
    "\n",
    "# Nome do arquivo da imagem\n",
    "# File name \n",
    "image_gray = (\"Image with gray.jpg\")\n",
    "\n",
    "# lear a imagem\n",
    "#read the image\n",
    "bgr_image = cv2.imread(image_gray)\n",
    "\n",
    "# Tratando a imagem\n",
    "# Treat the image\n",
    "hsv_image = cv2.cvtColor(bgr_image, cv2.COLOR_BGR2GRAY)\n",
    "config = r'--oem 3 --psm 6'\n",
    "\n",
    "\n",
    "#apontar o caminho onde esta intalado o pytesseract.exe\n",
    "#point where the pytesseract.exe is install \n",
    "pytesseract.pytesseract.tesseract_cmd = r\"C:\\Program Files\\Tesseract-OCR\\tesseract.exe\"\n",
    "    \n",
    "\n",
    "# reconhecer a imagem OCR e transformar em texto\n",
    "# recognize OCR image and turn to a string\n",
    "text = pytesseract.image_to_string(hsv_image, config=config)\n",
    "print(text)\n"
   ]
  },
  {
   "cell_type": "code",
   "execution_count": null,
   "id": "562d3ab6",
   "metadata": {},
   "outputs": [],
   "source": []
  }
 ],
 "metadata": {
  "kernelspec": {
   "display_name": "Python 3 (ipykernel)",
   "language": "python",
   "name": "python3"
  },
  "language_info": {
   "codemirror_mode": {
    "name": "ipython",
    "version": 3
   },
   "file_extension": ".py",
   "mimetype": "text/x-python",
   "name": "python",
   "nbconvert_exporter": "python",
   "pygments_lexer": "ipython3",
   "version": "3.9.12"
  }
 },
 "nbformat": 4,
 "nbformat_minor": 5
}
